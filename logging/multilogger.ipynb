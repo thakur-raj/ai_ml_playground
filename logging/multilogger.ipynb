{
 "cells": [
  {
   "cell_type": "code",
   "execution_count": 1,
   "id": "4e4fb965",
   "metadata": {},
   "outputs": [],
   "source": [
    "import logging\n",
    "\n",
    "#create a logger for module 1\n",
    "logger1 = logging.getLogger(\"module1\")\n",
    "logger1.setLevel(logging.DEBUG)\n",
    "\n",
    "#create a logger for module 2\n",
    "logger2 = logging.getLogger(\"module2\")\n",
    "logger2.setLevel(logging.WARNING)\n",
    "\n",
    "\n",
    "#BASIC SETTING\n",
    "logging.basicConfig(force=True,\n",
    "level=logging.DEBUG, \n",
    "format='%(asctime)s - %(module)s - %(name)s - %(levelname)s - %(message)s')"
   ]
  },
  {
   "cell_type": "code",
   "execution_count": 2,
   "id": "af565815",
   "metadata": {},
   "outputs": [
    {
     "name": "stderr",
     "output_type": "stream",
     "text": [
      "2025-08-12 20:10:10,966 - 570948002 - module1 - DEBUG - This is a debug message from module 1\n",
      "2025-08-12 20:10:10,968 - 570948002 - module1 - INFO - This is an info message from module 1\n",
      "2025-08-12 20:10:10,969 - 570948002 - module1 - WARNING - This is a warning message from module 1\n",
      "2025-08-12 20:10:10,970 - 570948002 - module2 - WARNING - This is a warning message from module 2\n",
      "2025-08-12 20:10:10,971 - 570948002 - module1 - ERROR - This is an error message from module 1\n",
      "2025-08-12 20:10:10,972 - 570948002 - module2 - ERROR - This is an error message from module 2\n",
      "2025-08-12 20:10:10,972 - 570948002 - module1 - CRITICAL - This is a critical message from module 1\n",
      "2025-08-12 20:10:10,973 - 570948002 - module2 - CRITICAL - This is a critical message from module 2\n"
     ]
    }
   ],
   "source": [
    "### log messages with different loggers\n",
    "\n",
    "logger1.debug(\"This is a debug message from module 1\")\n",
    "logger2.debug(\"This is a debug message from module 2\")\n",
    "\n",
    "logger1.info(\"This is an info message from module 1\")\n",
    "logger2.info(\"This is an info message from module 2\")\n",
    "\n",
    "logger1.warning(\"This is a warning message from module 1\")\n",
    "logger2.warning(\"This is a warning message from module 2\")\n",
    "\n",
    "logger1.error(\"This is an error message from module 1\")\n",
    "logger2.error(\"This is an error message from module 2\")\n",
    "\n",
    "logger1.critical(\"This is a critical message from module 1\")\n",
    "logger2.critical(\"This is a critical message from module 2\")"
   ]
  },
  {
   "cell_type": "code",
   "execution_count": null,
   "id": "a51ded7a",
   "metadata": {},
   "outputs": [],
   "source": []
  },
  {
   "cell_type": "code",
   "execution_count": null,
   "id": "7f3fc2b4",
   "metadata": {},
   "outputs": [],
   "source": []
  },
  {
   "cell_type": "code",
   "execution_count": null,
   "id": "444baab1",
   "metadata": {},
   "outputs": [],
   "source": []
  },
  {
   "cell_type": "code",
   "execution_count": null,
   "id": "e69c3b68",
   "metadata": {},
   "outputs": [],
   "source": []
  }
 ],
 "metadata": {
  "kernelspec": {
   "display_name": ".venv",
   "language": "python",
   "name": "python3"
  },
  "language_info": {
   "codemirror_mode": {
    "name": "ipython",
    "version": 3
   },
   "file_extension": ".py",
   "mimetype": "text/x-python",
   "name": "python",
   "nbconvert_exporter": "python",
   "pygments_lexer": "ipython3",
   "version": "3.12.10"
  }
 },
 "nbformat": 4,
 "nbformat_minor": 5
}
