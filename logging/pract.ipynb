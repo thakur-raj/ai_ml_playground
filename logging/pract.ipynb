{
 "cells": [
  {
   "cell_type": "code",
   "execution_count": 2,
   "id": "ce9c9ddd",
   "metadata": {},
   "outputs": [
    {
     "name": "stderr",
     "output_type": "stream",
     "text": [
      "2025-08-12 19:50:16,697 - DEBUG - this is debug message\n",
      "2025-08-12 19:50:16,699 - INFO - this is info message\n",
      "2025-08-12 19:50:16,700 - WARNING - this is warning message\n",
      "2025-08-12 19:50:16,701 - ERROR - this is error message\n",
      "2025-08-12 19:50:16,702 - CRITICAL - this is critical message\n"
     ]
    }
   ],
   "source": [
    "import logging\n",
    "\n",
    "logging.basicConfig(level=logging.DEBUG)\n",
    "\n",
    "logging.debug(\"this is debug message\")\n",
    "logging.info(\"this is info message\")\n",
    "logging.warning(\"this is warning message\")\n",
    "logging.error(\"this is error message\")\n",
    "logging.critical(\"this is critical message\")"
   ]
  },
  {
   "cell_type": "code",
   "execution_count": 12,
   "id": "39238bd6",
   "metadata": {},
   "outputs": [],
   "source": [
    "#configuring the logging format\n",
    "import logging\n",
    "\n",
    "logging.basicConfig(force=True,filename=\"test.log\",filemode=\"w\",\n",
    "level=logging.DEBUG, format='%(asctime)s - %(name)s %(levelname)s - %(message)s')\n",
    "\n",
    "logging.debug(\"this is debug message\")\n",
    "logging.info(\"this is info message\")\n",
    "logging.warning(\"this is warning message\")\n",
    "logging.error(\"this is error message\")\n",
    "logging.critical(\"this is critical message\")"
   ]
  },
  {
   "cell_type": "code",
   "execution_count": 11,
   "id": "0bd8c0b6",
   "metadata": {},
   "outputs": [],
   "source": [
    "logging.debug(\"this is debug message\")\n",
    "logging.info(\"this is info message\")\n",
    "logging.warning(\"this is warning message\")\n",
    "logging.error(\"this is error message\")\n",
    "logging.critical(\"this is critical message\")"
   ]
  },
  {
   "cell_type": "code",
   "execution_count": null,
   "id": "099bc2a2",
   "metadata": {},
   "outputs": [],
   "source": []
  },
  {
   "cell_type": "code",
   "execution_count": null,
   "id": "edccaa1d",
   "metadata": {},
   "outputs": [],
   "source": []
  },
  {
   "cell_type": "code",
   "execution_count": null,
   "id": "a6f6edd4",
   "metadata": {},
   "outputs": [],
   "source": [
    "  "
   ]
  }
 ],
 "metadata": {
  "kernelspec": {
   "display_name": ".venv",
   "language": "python",
   "name": "python3"
  },
  "language_info": {
   "codemirror_mode": {
    "name": "ipython",
    "version": 3
   },
   "file_extension": ".py",
   "mimetype": "text/x-python",
   "name": "python",
   "nbconvert_exporter": "python",
   "pygments_lexer": "ipython3",
   "version": "3.12.10"
  }
 },
 "nbformat": 4,
 "nbformat_minor": 5
}
