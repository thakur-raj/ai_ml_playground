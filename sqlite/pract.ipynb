{
 "cells": [
  {
   "cell_type": "code",
   "execution_count": 11,
   "id": "bd4033fb",
   "metadata": {},
   "outputs": [],
   "source": [
    "import sqlite3"
   ]
  },
  {
   "cell_type": "code",
   "execution_count": 12,
   "id": "a14c70b4",
   "metadata": {},
   "outputs": [
    {
     "name": "stdout",
     "output_type": "stream",
     "text": [
      "Opened database successfully\n"
     ]
    }
   ],
   "source": [
    "#Connect to a database\n",
    "connection = sqlite3.connect('mydatabase.db')\n",
    "print(\"Opened database successfully\")"
   ]
  },
  {
   "cell_type": "code",
   "execution_count": 13,
   "id": "48081f83",
   "metadata": {},
   "outputs": [],
   "source": [
    "cursor = connection.cursor()"
   ]
  },
  {
   "cell_type": "code",
   "execution_count": null,
   "id": "67a9afe1",
   "metadata": {},
   "outputs": [
    {
     "name": "stdout",
     "output_type": "stream",
     "text": [
      "Table created successfully\n"
     ]
    }
   ],
   "source": [
    "#Create a table\n",
    "cursor.execute('''\n",
    "CREATE TABLE if not exists employees\n",
    "(id Integer PRIMARY KEY, \n",
    " name TEXT not null, \n",
    " age Integer,\n",
    " department TEXT\n",
    " )''')\n",
    "\n",
    "print(\"Table created successfully\")\n",
    "\n",
    "connection.commit()\n"
   ]
  },
  {
   "cell_type": "code",
   "execution_count": 15,
   "id": "405f0478",
   "metadata": {},
   "outputs": [
    {
     "data": {
      "text/plain": [
       "<sqlite3.Cursor at 0x7f138ac12140>"
      ]
     },
     "execution_count": 15,
     "metadata": {},
     "output_type": "execute_result"
    }
   ],
   "source": [
    "cursor.execute('''Select * from employees''')"
   ]
  },
  {
   "cell_type": "code",
   "execution_count": null,
   "id": "c4670b31",
   "metadata": {},
   "outputs": [],
   "source": [
    "#Insert some sample data\n",
    "\n",
    "cursor.execute(\"INSERT INTO employees (id, name, age, department) VALUES (1, 'Raj', 20, 'IT')\")\n",
    "cursor.execute(\"INSERT INTO employees (id, name, age, department) VALUES (2, 'Surya', 21, 'IT')\")\n",
    "cursor.execute(\"INSERT INTO employees (id, name, age, department) VALUES (3, 'kRISHNA', 22, 'IT')\")\n",
    "cursor.execute(\"INSERT INTO employees (id, name, age, department) VALUES (4, 'KUMAR', 23, 'IT')\")\n",
    "\n",
    "connection.commit()"
   ]
  },
  {
   "cell_type": "code",
   "execution_count": 23,
   "id": "79dde8ec",
   "metadata": {},
   "outputs": [
    {
     "name": "stdout",
     "output_type": "stream",
     "text": [
      "(1, 'Raj', 25, 'IT')\n",
      "(2, 'Surya', 21, 'IT')\n",
      "(3, 'kRISHNA', 22, 'IT')\n",
      "(4, 'KUMAR', 23, 'IT')\n"
     ]
    }
   ],
   "source": [
    "#Query the data\n",
    "\n",
    "cursor.execute(\"SELECT * FROM employees\")\n",
    "rows = cursor.fetchall()\n",
    "\n",
    "for row in rows:\n",
    "    print(row)"
   ]
  },
  {
   "cell_type": "code",
   "execution_count": 24,
   "id": "5bc1a369",
   "metadata": {},
   "outputs": [],
   "source": [
    "#update data in table\n",
    "cursor.execute(\"UPDATE employees SET age = 25 WHERE name = 'Raj'\")\n",
    "connection.commit()"
   ]
  },
  {
   "cell_type": "code",
   "execution_count": 25,
   "id": "77d8bc7a",
   "metadata": {},
   "outputs": [],
   "source": [
    "#delete data from table\n",
    "cursor.execute(\"DELETE FROM employees WHERE name = 'KUMAR'\")\n",
    "connection.commit()"
   ]
  },
  {
   "cell_type": "code",
   "execution_count": 26,
   "id": "7fa4045a",
   "metadata": {},
   "outputs": [
    {
     "name": "stdout",
     "output_type": "stream",
     "text": [
      "Table created successfully\n"
     ]
    }
   ],
   "source": [
    "#Working with sales database\n",
    "connection = sqlite3.connect('sales_data.db')\n",
    "\n",
    "cursor = connection.cursor()\n",
    "\n",
    "#Create table for sales data\n",
    "\n",
    "cursor.execute('''\n",
    "CREATE TABLE if not exists sales\n",
    "(id Integer PRIMARY KEY, \n",
    " product TEXT not null, \n",
    " sales Integer,\n",
    " date TEXT not null,\n",
    " region TEXT\n",
    " )''')\n",
    "\n",
    "print(\"Table created successfully\")\n",
    "\n",
    "connection.commit()"
   ]
  },
  {
   "cell_type": "code",
   "execution_count": 27,
   "id": "34cee801",
   "metadata": {},
   "outputs": [],
   "source": [
    "#INSERT SAMPLE DATA\n",
    "\n",
    "cursor.execute(\"INSERT INTO sales (id, product, sales, date, region) VALUES (1, 'Product A', 100, '2022-01-01', 'Region A')\")\n",
    "cursor.execute(\"INSERT INTO sales (id, product, sales, date, region) VALUES (2, 'Product B', 200, '2022-01-02', 'Region B')\")\n",
    "cursor.execute(\"INSERT INTO sales (id, product, sales, date, region) VALUES (3, 'Product C', 300, '2022-01-03', 'Region C')\")\n",
    "cursor.execute(\"INSERT INTO sales (id, product, sales, date, region) VALUES (4, 'Product D', 400, '2022-01-04', 'Region D')\")\n",
    "\n",
    "connection.commit()"
   ]
  },
  {
   "cell_type": "code",
   "execution_count": 28,
   "id": "16c5e236",
   "metadata": {},
   "outputs": [],
   "source": [
    "cursor.executemany(\"INSERT INTO sales (id, product, sales, date, region) VALUES (?, ?, ?, ?, ?)\", [\n",
    "    (5, 'Product E', 500, '2022-01-05', 'Region E'),\n",
    "    (6, 'Product F', 600, '2022-01-06', 'Region F'),\n",
    "    (7, 'Product G', 700, '2022-01-07', 'Region G'),\n",
    "    (8, 'Product H', 800, '2022-01-08', 'Region H'),\n",
    "    (9, 'Product I', 900, '2022-01-09', 'Region I'),\n",
    "    (10, 'Product J', 1000, '2022-01-10', 'Region J')\n",
    "])\n",
    "\n",
    "connection.commit()"
   ]
  },
  {
   "cell_type": "code",
   "execution_count": 29,
   "id": "9c9fdc94",
   "metadata": {},
   "outputs": [
    {
     "name": "stdout",
     "output_type": "stream",
     "text": [
      "(1, 'Product A', 100, '2022-01-01', 'Region A')\n",
      "(2, 'Product B', 200, '2022-01-02', 'Region B')\n",
      "(3, 'Product C', 300, '2022-01-03', 'Region C')\n",
      "(4, 'Product D', 400, '2022-01-04', 'Region D')\n",
      "(5, 'Product E', 500, '2022-01-05', 'Region E')\n",
      "(6, 'Product F', 600, '2022-01-06', 'Region F')\n",
      "(7, 'Product G', 700, '2022-01-07', 'Region G')\n",
      "(8, 'Product H', 800, '2022-01-08', 'Region H')\n",
      "(9, 'Product I', 900, '2022-01-09', 'Region I')\n",
      "(10, 'Product J', 1000, '2022-01-10', 'Region J')\n"
     ]
    }
   ],
   "source": [
    "#Query the data\n",
    "cursor.execute(\"SELECT * FROM sales\")\n",
    "rows = cursor.fetchall()\n",
    "\n",
    "for row in rows:\n",
    "    print(row)"
   ]
  },
  {
   "cell_type": "code",
   "execution_count": 30,
   "id": "13a3caa3",
   "metadata": {},
   "outputs": [],
   "source": [
    "connection.close()"
   ]
  }
 ],
 "metadata": {
  "kernelspec": {
   "display_name": ".venv",
   "language": "python",
   "name": "python3"
  },
  "language_info": {
   "codemirror_mode": {
    "name": "ipython",
    "version": 3
   },
   "file_extension": ".py",
   "mimetype": "text/x-python",
   "name": "python",
   "nbconvert_exporter": "python",
   "pygments_lexer": "ipython3",
   "version": "3.12.10"
  }
 },
 "nbformat": 4,
 "nbformat_minor": 5
}
